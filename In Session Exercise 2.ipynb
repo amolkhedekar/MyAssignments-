{
 "cells": [
  {
   "cell_type": "markdown",
   "metadata": {},
   "source": [
    "# To calculate IFR and CMR values"
   ]
  },
  {
   "cell_type": "markdown",
   "metadata": {},
   "source": [
    "Function To Calculate IFR Value"
   ]
  },
  {
   "cell_type": "code",
   "execution_count": 21,
   "metadata": {},
   "outputs": [],
   "source": [
    "def ifr(deaths,infected,district):\n",
    "    ifr_value=(deaths/infected)*100\n",
    "    print(\" The IFR value for\",district,\"is {:.3f}\".format(ifr_value)+\" %\")"
   ]
  },
  {
   "cell_type": "markdown",
   "metadata": {},
   "source": [
    "Function To Calculate CMR Value"
   ]
  },
  {
   "cell_type": "code",
   "execution_count": 22,
   "metadata": {},
   "outputs": [],
   "source": [
    "def cmr(deaths,recovered,district):\n",
    "    cmr_value=(deaths/(recovered+deaths))*100\n",
    "    print(\" The CMR value for\",district,\"is {:.2f}\".format(cmr_value)+\" %\")"
   ]
  },
  {
   "cell_type": "markdown",
   "metadata": {},
   "source": [
    "Example: Calculating IFR, CMR values for Mumbai District"
   ]
  },
  {
   "cell_type": "code",
   "execution_count": 23,
   "metadata": {},
   "outputs": [
    {
     "name": "stdout",
     "output_type": "stream",
     "text": [
      " the ifr value for Mumbai is 4.196 %\n",
      " the cmr value for Mumbai is 7.79 %\n"
     ]
    }
   ],
   "source": [
    "district=\"Mumbai\" #we took Mumbai as district \n",
    "infected=136596 #Rate of Infected People\n",
    "recovered=67890 #Rate of Recovered People\n",
    "deaths=5732 #Total Deaths\n",
    "#We Called the above functions for calculating IFR and CMR values\n",
    "ifr(deaths,infected,district)\n",
    "cmr(deaths,recovered,district)"
   ]
  }
 ],
 "metadata": {
  "kernelspec": {
   "display_name": "Python 3",
   "language": "python",
   "name": "python3"
  },
  "language_info": {
   "codemirror_mode": {
    "name": "ipython",
    "version": 3
   },
   "file_extension": ".py",
   "mimetype": "text/x-python",
   "name": "python",
   "nbconvert_exporter": "python",
   "pygments_lexer": "ipython3",
   "version": "3.7.6"
  }
 },
 "nbformat": 4,
 "nbformat_minor": 4
}
