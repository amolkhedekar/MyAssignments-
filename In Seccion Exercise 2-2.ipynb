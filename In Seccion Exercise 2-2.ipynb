{
 "cells": [
  {
   "cell_type": "markdown",
   "metadata": {},
   "source": [
    "# Python List, Tuple, Dictionary"
   ]
  },
  {
   "cell_type": "markdown",
   "metadata": {},
   "source": [
    "Example For List"
   ]
  },
  {
   "cell_type": "code",
   "execution_count": 17,
   "metadata": {},
   "outputs": [
    {
     "name": "stdout",
     "output_type": "stream",
     "text": [
      "List of State \n",
      " ['Maharashtra', 'Goa', 'Punjab', 'Karnataka', 'Gujarat'] \n",
      "\n",
      "Infected People List respective to State \n",
      " ['187000', '1,482', '5,937', '18,016', '33,913'] \n",
      "\n"
     ]
    }
   ],
   "source": [
    "#States List\n",
    "state=[\"Maharashtra\",\"Goa\",\"Punjab\",\"Karnataka\",\"Gujarat\"]\n",
    "print(\"List of State \\n\",state,\"\\n\")\n",
    "\n",
    "#Infected People List respective to state list\n",
    "infected_No=[\"187000\",\"1,482\",\"5,937\",\"18,016\",\"33,913\"]\n",
    "print(\"Infected People List respective to State \\n\",infected_No,\"\\n\")\n"
   ]
  },
  {
   "cell_type": "markdown",
   "metadata": {},
   "source": [
    "Example for Tuple"
   ]
  },
  {
   "cell_type": "code",
   "execution_count": 18,
   "metadata": {},
   "outputs": [
    {
     "name": "stdout",
     "output_type": "stream",
     "text": [
      "Recovered People List respective to State \n",
      " ('Maharashtra', 101000, 'Goa', 734, 'Punjab', 2234, 'Karnataka', 8334, 'Gujarat', 24593) \n",
      "\n"
     ]
    }
   ],
   "source": [
    "#Recovered People Statevise using tuple\n",
    "recovered=(\"Maharashtra\",101000,\"Goa\",734,\"Punjab\",2234,\"Karnataka\",8334,\"Gujarat\",24593)\n",
    "print(\"Recovered People List respective to State \\n\",recovered,\"\\n\")"
   ]
  },
  {
   "cell_type": "markdown",
   "metadata": {},
   "source": [
    "Example for Dictionary"
   ]
  },
  {
   "cell_type": "code",
   "execution_count": 19,
   "metadata": {},
   "outputs": [
    {
     "name": "stdout",
     "output_type": "stream",
     "text": [
      "{'Maharashtra': 187000, 'Goa': 1482, 'Punjab': 5937, 'Karnataka': 18016, 'Gujarat': 33913} \n",
      "\n",
      "{'Maharashtra': '187000', 'Goa': '1,482', 'Punjab': '5,937', 'Karnataka': '18,016', 'Gujarat': '33,913'}\n"
     ]
    }
   ],
   "source": [
    "#Infected People respective to state using Dictionary\n",
    "infecteddic={\"Maharashtra\":187000,\"Goa\":1482,\"Punjab\":5937,\"Karnataka\":18016,\"Gujarat\":33913}\n",
    "print(infecteddic,\"\\n\")\n",
    "\n",
    "#Infected using Loop\n",
    "infected_rec={state[i]:infected_No[i] for i in range(len(infected_No))}\n",
    "print(infected_rec)"
   ]
  }
 ],
 "metadata": {
  "kernelspec": {
   "display_name": "Python 3",
   "language": "python",
   "name": "python3"
  },
  "language_info": {
   "codemirror_mode": {
    "name": "ipython",
    "version": 3
   },
   "file_extension": ".py",
   "mimetype": "text/x-python",
   "name": "python",
   "nbconvert_exporter": "python",
   "pygments_lexer": "ipython3",
   "version": "3.7.6"
  }
 },
 "nbformat": 4,
 "nbformat_minor": 4
}
