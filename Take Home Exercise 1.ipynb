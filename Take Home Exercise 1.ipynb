{
 "cells": [
  {
   "cell_type": "markdown",
   "metadata": {},
   "source": [
    "# Take Home Exersice 1 #THE1"
   ]
  },
  {
   "cell_type": "code",
   "execution_count": 6,
   "metadata": {},
   "outputs": [
    {
     "data": {
      "text/plain": [
       "0        Andaman and Nicobar\n",
       "1             Andhra Pradesh\n",
       "2          Arunachal Pradesh\n",
       "3                      Assam\n",
       "4                      Bihar\n",
       "5                 Chandigarh\n",
       "6               Chhattisgarh\n",
       "7     Dadra and Nagar Haveli\n",
       "8                      Delhi\n",
       "9                        Goa\n",
       "10                   Gujarat\n",
       "11                   Haryana\n",
       "12          Himachal Pradesh\n",
       "13         Jammu and Kashmir\n",
       "14                 Jharkhand\n",
       "15                 Karnataka\n",
       "16                    Kerala\n",
       "17                    Ladakh\n",
       "18               Lakshadweep\n",
       "19            Madhya Pradesh\n",
       "20               Maharashtra\n",
       "21                   Manipur\n",
       "22                 Meghalaya\n",
       "23                   Mizoram\n",
       "24                  Nagaland\n",
       "25                    Odisha\n",
       "26                Puducherry\n",
       "27                    Punjab\n",
       "28                 Rajasthan\n",
       "29                    Sikkim\n",
       "30                Tamil Nadu\n",
       "31                 Telengana\n",
       "32                   Tripura\n",
       "33             Uttar Pradesh\n",
       "34               Uttarakhand\n",
       "35               West Bengal\n",
       "Name: State, dtype: object"
      ]
     },
     "execution_count": 6,
     "metadata": {},
     "output_type": "execute_result"
    }
   ],
   "source": [
    "import pandas as pd #python module pandas is imported for operating csv files \n",
    "datafile=pd.read_csv(\"Covidcasesforprogram.csv\",delimiter=\",\") #file for covid is added using read\n",
    "states=datafile[\"State\"] #for states\n",
    "states"
   ]
  },
  {
   "cell_type": "code",
   "execution_count": 19,
   "metadata": {},
   "outputs": [
    {
     "data": {
      "text/plain": [
       "('Andaman and Nicobar',\n",
       " 'Andhra Pradesh',\n",
       " 'Arunachal Pradesh',\n",
       " 'Assam',\n",
       " 'Bihar',\n",
       " 'Chandigarh',\n",
       " 'Chhattisgarh',\n",
       " 'Dadra and Nagar Haveli',\n",
       " 'Delhi',\n",
       " 'Goa',\n",
       " 'Gujarat',\n",
       " 'Haryana',\n",
       " 'Himachal Pradesh',\n",
       " 'Jammu and Kashmir',\n",
       " 'Jharkhand',\n",
       " 'Karnataka',\n",
       " 'Kerala',\n",
       " 'Ladakh',\n",
       " 'Lakshadweep',\n",
       " 'Madhya Pradesh',\n",
       " 'Maharashtra',\n",
       " 'Manipur',\n",
       " 'Meghalaya',\n",
       " 'Mizoram',\n",
       " 'Nagaland',\n",
       " 'Odisha',\n",
       " 'Puducherry',\n",
       " 'Punjab',\n",
       " 'Rajasthan',\n",
       " 'Sikkim',\n",
       " 'Tamil Nadu',\n",
       " 'Telengana',\n",
       " 'Tripura',\n",
       " 'Uttar Pradesh',\n",
       " 'Uttarakhand',\n",
       " 'West Bengal')"
      ]
     },
     "execution_count": 19,
     "metadata": {},
     "output_type": "execute_result"
    }
   ],
   "source": [
    "statestu=tuple(states) #state dataframe is converted to tuple\n",
    "statestu"
   ]
  },
  {
   "cell_type": "code",
   "execution_count": 7,
   "metadata": {},
   "outputs": [
    {
     "data": {
      "text/plain": [
       "0        100\n",
       "1      15252\n",
       "2        195\n",
       "3       8582\n",
       "4      10249\n",
       "5        446\n",
       "6       2940\n",
       "7        215\n",
       "8      89802\n",
       "9       1387\n",
       "10     33232\n",
       "11     14941\n",
       "12       979\n",
       "13      7695\n",
       "14      2521\n",
       "15     16514\n",
       "16      4593\n",
       "17       990\n",
       "18         0\n",
       "19     13861\n",
       "20    180298\n",
       "21      1260\n",
       "22        52\n",
       "23       160\n",
       "24       459\n",
       "25      7316\n",
       "26       714\n",
       "27      5668\n",
       "28     18312\n",
       "29       101\n",
       "30     94049\n",
       "31     17357\n",
       "32      1396\n",
       "33     24056\n",
       "34      2947\n",
       "35     19170\n",
       "Name: Confirmed, dtype: int64"
      ]
     },
     "execution_count": 7,
     "metadata": {},
     "output_type": "execute_result"
    }
   ],
   "source": [
    "infectedpeoNo=datafile[\"Confirmed\"] #Infected People Numbers respective to state\n",
    "infectedpeoNo"
   ]
  },
  {
   "cell_type": "code",
   "execution_count": 18,
   "metadata": {},
   "outputs": [
    {
     "data": {
      "text/plain": [
       "[100,\n",
       " 15252,\n",
       " 195,\n",
       " 8582,\n",
       " 10249,\n",
       " 446,\n",
       " 2940,\n",
       " 215,\n",
       " 89802,\n",
       " 1387,\n",
       " 33232,\n",
       " 14941,\n",
       " 979,\n",
       " 7695,\n",
       " 2521,\n",
       " 16514,\n",
       " 4593,\n",
       " 990,\n",
       " 0,\n",
       " 13861,\n",
       " 180298,\n",
       " 1260,\n",
       " 52,\n",
       " 160,\n",
       " 459,\n",
       " 7316,\n",
       " 714,\n",
       " 5668,\n",
       " 18312,\n",
       " 101,\n",
       " 94049,\n",
       " 17357,\n",
       " 1396,\n",
       " 24056,\n",
       " 2947,\n",
       " 19170]"
      ]
     },
     "execution_count": 18,
     "metadata": {},
     "output_type": "execute_result"
    }
   ],
   "source": [
    "infectedNo=list(infectedpeoNo) #Infected people dataframe is converted to list\n",
    "infectedNo"
   ]
  },
  {
   "cell_type": "code",
   "execution_count": 21,
   "metadata": {},
   "outputs": [],
   "source": [
    "stateinf={statestu[i]:infectedNo[i] for i in range(len(infectedNo))} #for defining state and infected people using dictionary structure"
   ]
  },
  {
   "cell_type": "code",
   "execution_count": 22,
   "metadata": {},
   "outputs": [
    {
     "data": {
      "text/plain": [
       "{'Andaman and Nicobar': 100,\n",
       " 'Andhra Pradesh': 15252,\n",
       " 'Arunachal Pradesh': 195,\n",
       " 'Assam': 8582,\n",
       " 'Bihar': 10249,\n",
       " 'Chandigarh': 446,\n",
       " 'Chhattisgarh': 2940,\n",
       " 'Dadra and Nagar Haveli': 215,\n",
       " 'Delhi': 89802,\n",
       " 'Goa': 1387,\n",
       " 'Gujarat': 33232,\n",
       " 'Haryana': 14941,\n",
       " 'Himachal Pradesh': 979,\n",
       " 'Jammu and Kashmir': 7695,\n",
       " 'Jharkhand': 2521,\n",
       " 'Karnataka': 16514,\n",
       " 'Kerala': 4593,\n",
       " 'Ladakh': 990,\n",
       " 'Lakshadweep': 0,\n",
       " 'Madhya Pradesh': 13861,\n",
       " 'Maharashtra': 180298,\n",
       " 'Manipur': 1260,\n",
       " 'Meghalaya': 52,\n",
       " 'Mizoram': 160,\n",
       " 'Nagaland': 459,\n",
       " 'Odisha': 7316,\n",
       " 'Puducherry': 714,\n",
       " 'Punjab': 5668,\n",
       " 'Rajasthan': 18312,\n",
       " 'Sikkim': 101,\n",
       " 'Tamil Nadu': 94049,\n",
       " 'Telengana': 17357,\n",
       " 'Tripura': 1396,\n",
       " 'Uttar Pradesh': 24056,\n",
       " 'Uttarakhand': 2947,\n",
       " 'West Bengal': 19170}"
      ]
     },
     "execution_count": 22,
     "metadata": {},
     "output_type": "execute_result"
    }
   ],
   "source": [
    "stateinf"
   ]
  },
  {
   "cell_type": "code",
   "execution_count": null,
   "metadata": {},
   "outputs": [],
   "source": []
  }
 ],
 "metadata": {
  "kernelspec": {
   "display_name": "Python 3",
   "language": "python",
   "name": "python3"
  },
  "language_info": {
   "codemirror_mode": {
    "name": "ipython",
    "version": 3
   },
   "file_extension": ".py",
   "mimetype": "text/x-python",
   "name": "python",
   "nbconvert_exporter": "python",
   "pygments_lexer": "ipython3",
   "version": "3.7.6"
  }
 },
 "nbformat": 4,
 "nbformat_minor": 4
}
