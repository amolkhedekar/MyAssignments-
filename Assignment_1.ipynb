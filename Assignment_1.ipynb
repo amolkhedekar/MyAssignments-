{
 "cells": [
  {
   "cell_type": "markdown",
   "metadata": {},
   "source": [
    "# Change in the infected in given Three days "
   ]
  },
  {
   "cell_type": "code",
   "execution_count": 25,
   "metadata": {},
   "outputs": [
    {
     "name": "stdout",
     "output_type": "stream",
     "text": [
      "In Gwalior 7.6923076923076925 % of Corona Patients are Increased\n"
     ]
    }
   ],
   "source": [
    "#Name of District \n",
    "District = \"Gwalior\"\n",
    "#Total Infected\n",
    "Total_Infected = 1234\n",
    "#Record of Three Days\n",
    "tenthjune = 12\n",
    "eleventhjune = 2\n",
    "twelfthjune = 13\n",
    "#Percentage Calculation\n",
    "percent= ((twelfthjune-tenthjune)/twelfthjune)*100\n",
    "#Print Record\n",
    "print(\"In\",District,percent,\"% of Corona Patients are Increased\")"
   ]
  }
 ],
 "metadata": {
  "kernelspec": {
   "display_name": "Python 3",
   "language": "python",
   "name": "python3"
  },
  "language_info": {
   "codemirror_mode": {
    "name": "ipython",
    "version": 3
   },
   "file_extension": ".py",
   "mimetype": "text/x-python",
   "name": "python",
   "nbconvert_exporter": "python",
   "pygments_lexer": "ipython3",
   "version": "3.7.6"
  }
 },
 "nbformat": 4,
 "nbformat_minor": 4
}
